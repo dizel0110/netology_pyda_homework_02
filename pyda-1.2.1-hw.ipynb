{
 "cells": [
  {
   "cell_type": "markdown",
   "metadata": {},
   "source": [
    "## Задание 1"
   ]
  },
  {
   "cell_type": "markdown",
   "metadata": {},
   "source": [
    "Мы делаем MVP dating-сервиса, и у нас есть список парней и девушек (их число может варьироваться):"
   ]
  },
  {
   "cell_type": "code",
   "execution_count": 1,
   "metadata": {},
   "outputs": [],
   "source": [
    "boys = ['Peter', 'Alex', 'John', 'Arthur', 'Richard']\n",
    "girls = ['Kate', 'Liza', 'Kira', 'Emma', 'Trisha']"
   ]
  },
  {
   "cell_type": "markdown",
   "metadata": {},
   "source": [
    "Выдвигаем гипотезу: лучшие рекомендации мы получим, если просто отсортируем имена по алфавиту и познакомим людей с одинаковыми индексами после сортировки! \"Познакомить\" пары нам поможет функция zip, а в цикле распакуем zip-объект и выведем информацию в виде:\n",
    "\n",
    "Идеальные пары:  \n",
    "Alex и Emma  \n",
    "Arthur и Kate  \n",
    "John и Kira  \n",
    "Peter и Liza  \n",
    "Richard и Trisha  "
   ]
  },
  {
   "cell_type": "code",
   "execution_count": 2,
   "metadata": {},
   "outputs": [
    {
     "name": "stdout",
     "output_type": "stream",
     "text": [
      "Идеальные пары:\n",
      "Alex и Emma\n",
      "Arthur и Kate\n",
      "John и Kira\n",
      "Peter и Liza\n",
      "Richard и Trisha\n"
     ]
    }
   ],
   "source": [
    "boys.sort()\n",
    "girls.sort()\n",
    "\n",
    "boys_and_girls = zip(boys,girls)\n",
    "\n",
    "print('Идеальные пары:')\n",
    "for elements in boys_and_girls:\n",
    "    print(elements[0], 'и', elements[1])"
   ]
  },
  {
   "cell_type": "markdown",
   "metadata": {},
   "source": [
    "## Задание 2"
   ]
  },
  {
   "cell_type": "markdown",
   "metadata": {},
   "source": [
    "У нас есть список, содержащий информацию о среднедневной температуре в Фаренгейтах за недельный период по странам.\n",
    "Необходимо написать код, который рассчитает среднюю температуру за неделю в Цельсиях для каждой страны."
   ]
  },
  {
   "cell_type": "code",
   "execution_count": 3,
   "metadata": {},
   "outputs": [],
   "source": [
    "countries_temperature = [\n",
    " ['Thailand', [75.2, 77, 78.8, 73.4, 68, 75.2, 77]],\n",
    " ['Germany', [57.2, 55.4, 59, 59, 53.6, 55.4, 57.2]],\n",
    " ['Russia', [35.6, 37.4, 39.2, 41, 42.8, 39.2, 35.6]],\n",
    " ['Poland', [50, 50, 53.6, 57.2, 55.4, 55.4, 51.8]],\n",
    "]"
   ]
  },
  {
   "cell_type": "code",
   "execution_count": 4,
   "metadata": {},
   "outputs": [
    {
     "name": "stdout",
     "output_type": "stream",
     "text": [
      "Средняя температура за неделю в Thailand 23.86 °C.\n",
      "Средняя температура за неделю в Germany 13.71 °C.\n",
      "Средняя температура за неделю в Russia 3.71 °C.\n",
      "Средняя температура за неделю в Poland 11.86 °C.\n"
     ]
    }
   ],
   "source": [
    "for country in countries_temperature:\n",
    "    sum_temp = 0\n",
    "    for temperature in country[1]:\n",
    "        sum_temp += (temperature - 32) * 5 / 9\n",
    "    print('Средняя температура за неделю в', country[0], round(sum_temp/len(country[1]), 2), chr(176) + 'C.')"
   ]
  },
  {
   "cell_type": "markdown",
   "metadata": {},
   "source": [
    "## Задание 3"
   ]
  },
  {
   "cell_type": "markdown",
   "metadata": {},
   "source": [
    "Дан поток логов по количеству просмотренных страниц для каждого пользователя. Список отсортирован по ID пользователя. Вам необходимо написать алгоритм, который считает среднее значение просмотров на пользователя. \n",
    "Т. е. надо посчитать отношение суммы всех просмотров к количеству уникальных пользователей."
   ]
  },
  {
   "cell_type": "code",
   "execution_count": 5,
   "metadata": {},
   "outputs": [],
   "source": [
    "stream = [\n",
    "    '2018-01-01,user1,3',\n",
    "    '2018-01-07,user1,4',\n",
    "    '2018-03-29,user1,1',\n",
    "    '2018-04-04,user1,13',\n",
    "    '2018-01-05,user2,7',\n",
    "    '2018-06-14,user3,4',\n",
    "    '2018-07-02,user3,10',\n",
    "    '2018-03-21,user4,19',\n",
    "    '2018-03-22,user4,4',\n",
    "    '2018-04-22,user4,8',\n",
    "    '2018-05-03,user4,9',\n",
    "    '2018-05-11,user4,11',\n",
    "]"
   ]
  },
  {
   "cell_type": "code",
   "execution_count": 6,
   "metadata": {},
   "outputs": [
    {
     "name": "stdout",
     "output_type": "stream",
     "text": [
      "Количество логов: 12\n",
      "Сумма всех просмотров по логам: 93\n",
      "Число уникальных пользователей: 4\n",
      "Cреднее значение просмотров на пользователя: 23.2\n"
     ]
    }
   ],
   "source": [
    "t = len(stream)\n",
    "print('Количество логов:', t) #Сразу можно посчитать, а потом преобразовать список строк.\n",
    "                             #Строки в списке преобразовать во вложенные списки.    \n",
    "#print(type(stream))\n",
    "#print(stream)\n",
    "\n",
    "stream_new = []\n",
    "sum = 0   #  Счётчик значений просмотров.\n",
    "count = 1 # Счётчик уникальных пользователей. Один да посмотрел (Проверили, - логи есть).\n",
    "                                                      #тожде с т венно#\n",
    "# В цикле создаём удобный для работы лог и одновременно вычисляем sum and count.\n",
    "\n",
    "for j in range(t):\n",
    "#    print(stream[j].split(','))   \n",
    "#    print(type(stream[j].split(',')))\n",
    "    stream_new.append(stream[j].split(','))\n",
    "    sum += int(stream_new[j][2])\n",
    "    if j > 0 and stream_new[j][1] != stream_new[j-1][1]:\n",
    "        count += 1 # Знаем, что уже отсоритровано по пользователям, поэтому такой условие.\n",
    "#print(stream_new) # Можно посмотреть, как преобразовался наш лог в удобный для работы.\n",
    "print('Сумма всех просмотров по логам:', sum)\n",
    "print('Число уникальных пользователей:', count)\n",
    "print('Cреднее значение просмотров на пользователя:', round((sum/count), 1))"
   ]
  },
  {
   "cell_type": "markdown",
   "metadata": {},
   "source": [
    "## Задание 4"
   ]
  },
  {
   "cell_type": "markdown",
   "metadata": {},
   "source": [
    "Дана статистика рекламных кампаний по дням. Напишите алгоритм, который по паре дата-кампания ищет значение численного столбца. \n",
    "Т. е. для даты '2018-01-01' и 'google' нужно получить число 25. \n",
    "Считайте, что все комбинации дата-кампания уникальны."
   ]
  },
  {
   "cell_type": "code",
   "execution_count": 7,
   "metadata": {},
   "outputs": [],
   "source": [
    "stats = [\n",
    "    ['2018-01-01', 'google', 25],\n",
    "    ['2018-01-01', 'yandex', 65],\n",
    "    ['2018-01-01', 'market', 89],\n",
    "    ['2018-01-02', 'google', 574],\n",
    "    ['2018-01-02', 'yandex', 249],\n",
    "    ['2018-01-02', 'market', 994],\n",
    "    ['2018-01-03', 'google', 1843],\n",
    "    ['2018-01-03', 'yandex', 1327],\n",
    "    ['2018-01-03', 'market', 1764],\n",
    "]"
   ]
  },
  {
   "cell_type": "code",
   "execution_count": 8,
   "metadata": {},
   "outputs": [
    {
     "name": "stdout",
     "output_type": "stream",
     "text": [
      "Список дат: ['2018-01-01', '2018-01-02', '2018-01-03']\n",
      "Список компаний: ['google', 'yandex', 'market']\n",
      "Дата: 2018-01-02 Компания: market Число: 994\n"
     ]
    }
   ],
   "source": [
    "t = len(stats)\n",
    "date = [] #в этом списке окажутся все даты без повторов.\n",
    "date.append(stats[0][0])\n",
    "# print(date)\n",
    "company = [] #в этом списке окажутся все компании без повторов.\n",
    "company.append(stats[0][1]) #ловим инфу с ходу, в дате и компании уже есть первые данные.\n",
    "\n",
    "for j in range(t):\n",
    "    if j > 0 and stats[j][0] != stats[j-1][0]:\n",
    "        date.append(stats[j][0]) # по дням отсортированно a-priori (!) использовал такой подход\n",
    "for j in range(t):                    # c компаниями буду строже, строка 17 кода. \n",
    "    if j > 0 and stats[j][1] != stats[j-1][1]: # проблема схожестей?!!\n",
    "        company.append(stats[j][1])\n",
    "#print(date)\n",
    "#print(company) # Как и говорил, требуется дополнительная сортировка:  \n",
    "\n",
    "company = sorted(set(company), key=lambda d: company.index(d)) # сортировка по индексу\n",
    "print('Список дат:', date)       # с убиранием повторов ()\n",
    "print('Список компаний:', company) #Распечатали, ознакомились. Можно искать теперь по парам число.\n",
    "\n",
    "# Попробуем использовать двойной цикл для перебора всех пар. \n",
    "td = len(date)    # Количество дней, за которые проходила рекламная кампания.\n",
    "tc = len(company) # Название участвоваших кампаний. Не потеряли ни одной, убрав повторы.\n",
    "\n",
    "date_some = date[1]\n",
    "company_some = company[2]\n",
    "\n",
    "for l in range(t):\n",
    "    if ((stats[l][0] == date_some) and (stats[l][1] == company_some)):\n",
    "        print('Дата:', date_some, 'Компания:', company_some, 'Число:', stats[l][2])\n",
    "   #    break # Одной паре соответствует одно число. Нашли совпадение, вышли из цикла.\n",
    "              \n",
    "# Ниже представлен код, который тоже работает, с помощью него\n",
    "# если усовершенствовать, можно сделать подборку по всем вариантам.\n",
    "# Но этого не было в условиях задачи, я там тоже вывожу только одно значение.\n",
    "# Зато нагуглил интересную статью о выходе из двойных и так далее циклов.\n",
    "# Там были разные варианты и более удачные способы, в которых я пока тренируюсь\n",
    "# плавать. Ссылка: https://tproger.ru/problems/break-nested-loop-smartly/\n",
    "#       Название: Как сделать «двойной break», то есть выйти из вложенного цикла, в Python?\n",
    "\n",
    "        \n",
    "# exitFlag=False\n",
    "# for j in range(td):\n",
    "#     for k in range(tc):\n",
    "#         for l in range(t):\n",
    "#             if ((stats[l][0] == date_some) and (stats[l][1] == company_some)):\n",
    "#                 print('Дата:', date_some, 'Компания:', company_some, 'Число:', stats[l][2])\n",
    "#                 exitFlag = True\n",
    "#                 break\n",
    "#         if(exitFlag):\n",
    "#             break\n",
    "#     if(exitFlag):\n",
    "#         break"
   ]
  },
  {
   "cell_type": "code",
   "execution_count": null,
   "metadata": {},
   "outputs": [],
   "source": []
  }
 ],
 "metadata": {
  "kernelspec": {
   "display_name": "Python 3",
   "language": "python",
   "name": "python3"
  },
  "language_info": {
   "codemirror_mode": {
    "name": "ipython",
    "version": 3
   },
   "file_extension": ".py",
   "mimetype": "text/x-python",
   "name": "python",
   "nbconvert_exporter": "python",
   "pygments_lexer": "ipython3",
   "version": "3.7.4"
  }
 },
 "nbformat": 4,
 "nbformat_minor": 2
}
